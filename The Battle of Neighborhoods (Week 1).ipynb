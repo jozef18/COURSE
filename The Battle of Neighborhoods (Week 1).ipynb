{
    "cells": [
        {
            "cell_type": "markdown",
            "metadata": {},
            "source": "# Capstone Project - The Battle of the Neighborhoods (Week 1)"
        },
        {
            "cell_type": "markdown",
            "metadata": {},
            "source": "## 1. Business Problem and Background"
        },
        {
            "cell_type": "markdown",
            "metadata": {},
            "source": "The objective of this project is to analyze where to open a new Italian restaraunt in Vienna, Austria. \n\nVienna already has a lot of good restaraunts. I will use data science tools to find best new place where the restaruant would have a chance for good attendence and also it will be close to the City centre, public transpot and the same time neither Italian or nor other type of restaurant will be close by. \n\n"
        },
        {
            "cell_type": "markdown",
            "metadata": {},
            "source": "## 2. The Data and how it will be used to solve the problem"
        },
        {
            "cell_type": "markdown",
            "metadata": {},
            "source": "Data / Factors to be considered are: \n    - Number of existing restaurants in the neighborhood\n    - Number of and distance to Italian restaurants in the neighborhood, if any\n    - Distance of neighborhood from city center\n    - Distance from Public Trafic (Underground/U-Bahn) \n\nSources of data for the analysis:\n    - Foursquare API as a source of data - number of restaurants, their type, location \n    - Vienna Neighborhoods data from https://www.data.gv.at/katalog/dataset/stadt-wien_zhlbezirksgrenzenwien\n    \nMethods used to solve the problem: \n    - Use Vienna Neighborhoods data and enrich it with information from Foursquare \n    - Create Pandas dataframe\n    - Use K-means \n    "
        }
    ],
    "metadata": {
        "kernelspec": {
            "display_name": "Python 3.6",
            "language": "python",
            "name": "python3"
        },
        "language_info": {
            "codemirror_mode": {
                "name": "ipython",
                "version": 3
            },
            "file_extension": ".py",
            "mimetype": "text/x-python",
            "name": "python",
            "nbconvert_exporter": "python",
            "pygments_lexer": "ipython3",
            "version": "3.6.8"
        }
    },
    "nbformat": 4,
    "nbformat_minor": 1
}